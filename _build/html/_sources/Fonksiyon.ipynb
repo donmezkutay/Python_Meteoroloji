{
 "cells": [
  {
   "cell_type": "markdown",
   "metadata": {},
   "source": [
    "# Fonksiyonlar"
   ]
  },
  {
   "cell_type": "markdown",
   "metadata": {},
   "source": [
    "Python'da matematikte öğrendiğimiz gibi çalışır fonksiyonlar.\n",
    "\n",
    "> MESELA PRİNT() , RANGE() , MAX() VE MİN() kulllandığımız bu kodlarda\n",
    "\n",
    "Aslında hepsi bir fonksiyondur. Mesela **f(x) = 2x + 3** matematikse fonksiyonunu ele alalım:\n",
    "\n",
    "Biz bu fonksiyonu python üzerinde nasıl yazabiliriz?"
   ]
  },
  {
   "cell_type": "code",
   "execution_count": 1,
   "metadata": {},
   "outputs": [],
   "source": [
    "def fonksiyon_ismi(x):\n",
    "    sonuc = 2*x + 3\n",
    "    return sonuc"
   ]
  },
  {
   "cell_type": "markdown",
   "metadata": {},
   "source": [
    "Yukarıda herhangi bir fonksiyon ismi olacak şekilde bir fonksiyon tanımladık, **x** ise fonksiyonu kullandığımızda bizim inputumuzun atanacağı değişkendir.\n",
    "\n",
    "Daha sonra **sonuc = 2*x + 3** ile fonksiyon sonucu bulunup return komutuyla kullanıcıya sonuç yansıtılmıştır.\n",
    "\n",
    "Fonksiyonumuzu deneyelim."
   ]
  },
  {
   "cell_type": "code",
   "execution_count": 2,
   "metadata": {},
   "outputs": [
    {
     "data": {
      "text/plain": [
       "11"
      ]
     },
     "execution_count": 2,
     "metadata": {},
     "output_type": "execute_result"
    }
   ],
   "source": [
    "fonksiyon_ismi(4)"
   ]
  },
  {
   "cell_type": "code",
   "execution_count": 3,
   "metadata": {},
   "outputs": [
    {
     "data": {
      "text/plain": [
       "17"
      ]
     },
     "execution_count": 3,
     "metadata": {},
     "output_type": "execute_result"
    }
   ],
   "source": [
    "x = 7\n",
    "fonksiyon_ismi(x)"
   ]
  },
  {
   "cell_type": "markdown",
   "metadata": {},
   "source": [
    "**Bir harf notu hesaplama fonksiyonu yazıp kendi harf notumuz bulalım:**"
   ]
  },
  {
   "cell_type": "code",
   "execution_count": 4,
   "metadata": {},
   "outputs": [],
   "source": [
    "def harf_notu(vize1 , vize2 , proje , final):\n",
    "    \n",
    "    # değişkenlerimi tanımlayalım\n",
    "    vize1 = vize1\n",
    "    vize2 = vize2\n",
    "    proje = proje\n",
    "    final = final\n",
    "    \n",
    "    # girilen bilgilerden öğrencinin notunu hesaplayalım yüzde bilgilerine göre dersin\n",
    "    ogrenci_notu = (vize1 * 20/100) + (vize2*20/100) + (proje*20/100) + (final*40/100)\n",
    "    \n",
    "    # şimdi öğrencinin notu'na göre hangi harf notunu alacağını bulalım\n",
    "    \n",
    "    print('Harf Notunuz Hesaplanıyor..')\n",
    "    \n",
    "    if 80<=ogrenci_notu<=100:\n",
    "        harf_notu = 'AA'\n",
    "    \n",
    "    elif 60<=ogrenci_notu<80:\n",
    "        harf_notu = 'BB'\n",
    "        \n",
    "    elif 40<=ogrenci_notu<60:\n",
    "        harf_notu = 'CC'\n",
    "        \n",
    "    elif 20<=ogrenci_notu<40:\n",
    "        harf_notu = 'DD'\n",
    "        \n",
    "    else:\n",
    "        harf_notu = 'FF'\n",
    "        \n",
    "    \n",
    "    return harf_notu  # çıkan harf notunu bilgiye giricek kullanıcıya döndürelim ,gösterelim"
   ]
  },
  {
   "cell_type": "markdown",
   "metadata": {},
   "source": [
    "Şimdi fonksiyonu çalıştıralım bakalım harf notumuz ne olacak:"
   ]
  },
  {
   "cell_type": "code",
   "execution_count": 6,
   "metadata": {},
   "outputs": [
    {
     "name": "stdout",
     "output_type": "stream",
     "text": [
      "Harf Notunuz Hesaplanıyor..\n"
     ]
    },
    {
     "data": {
      "text/plain": [
       "'BB'"
      ]
     },
     "execution_count": 6,
     "metadata": {},
     "output_type": "execute_result"
    }
   ],
   "source": [
    "vize_1 = 82\n",
    "vize_2 = 44\n",
    "proje_ = 56\n",
    "final_= 62\n",
    "\n",
    "harf_notu(vize1=vize_1 , vize2=vize_2 , proje=proje_ , final=final_)"
   ]
  },
  {
   "cell_type": "code",
   "execution_count": null,
   "metadata": {},
   "outputs": [],
   "source": []
  }
 ],
 "metadata": {
  "kernelspec": {
   "display_name": "Python 3",
   "language": "python",
   "name": "python3"
  },
  "language_info": {
   "codemirror_mode": {
    "name": "ipython",
    "version": 3
   },
   "file_extension": ".py",
   "mimetype": "text/x-python",
   "name": "python",
   "nbconvert_exporter": "python",
   "pygments_lexer": "ipython3",
   "version": "3.8.5"
  }
 },
 "nbformat": 4,
 "nbformat_minor": 4
}
