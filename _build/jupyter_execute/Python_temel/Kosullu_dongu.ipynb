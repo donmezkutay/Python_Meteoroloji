{
 "cells": [
  {
   "cell_type": "markdown",
   "metadata": {},
   "source": [
    "# Koşullu İfadeler ve Döngüler\n",
    "\n",
    "## İf Koşullu İfadeler\n",
    "\n",
    "Koşullu ifadelerin kullanımında **if** yazılır, **koşul** yazılır ve satır sonuna **:**  işareti konur entera basılır daha sonra bir **tab** kadar boşluk gidilir ve bu koşulda ne olacağı yazılır.\n",
    "\n",
    "Tab boşluğu çok önemlidir çünkü python aksi halde çalışmaz."
   ]
  },
  {
   "cell_type": "code",
   "execution_count": 1,
   "metadata": {},
   "outputs": [],
   "source": [
    "sicaklik = 13\n",
    "\n",
    "if sicaklik>25: \n",
    "    print('Hava Çok Sıcak')"
   ]
  },
  {
   "cell_type": "markdown",
   "metadata": {},
   "source": [
    "> Üstteki kod herhangi bir sonuç vermedi çünkü koşulumuz sağlanmadı.\n",
    "\n",
    "**Ekstra koşullar sağlayalım..**"
   ]
  },
  {
   "cell_type": "code",
   "execution_count": 3,
   "metadata": {},
   "outputs": [],
   "source": [
    "if sicaklik>25: \n",
    "    print('Hava Çok Sıcak')\n",
    "    \n",
    "elif 20<=sicaklik<=25: \n",
    "    print('Hava Ilık')"
   ]
  },
  {
   "cell_type": "markdown",
   "metadata": {},
   "source": [
    "**elif** kullanımı ekstra koşuldur eğer if komutu sağlanmazsa elif komutu sorgulanır eğer sicaklik değişkeni 20 ile 25 arasındaysa hava ılık komutu çalışır değilse bir sonraki koşullu ifadeye geçer sıcaklık değişkeni 13 olduğuna göre bu koşulda sağlanamaz ve program devam eder aşağı koşullara doğru sorgulamaya."
   ]
  },
  {
   "cell_type": "code",
   "execution_count": 4,
   "metadata": {},
   "outputs": [],
   "source": [
    "if sicaklik>25: \n",
    "    print('Hava Çok Sıcak')\n",
    "    \n",
    "elif 20<=sicaklik<=25: \n",
    "    print('Hava Ilık')\n",
    "    \n",
    "elif 14<=sicaklik<20:\n",
    "    \n",
    "    print('Hava soğumaya yakın')"
   ]
  },
  {
   "cell_type": "markdown",
   "metadata": {},
   "source": [
    "**else** ise artık tüm koşullar bitmiştir ve hiçbiri sağlanamamıştır o zaman else'in aşağısındaki  komut çalışır"
   ]
  },
  {
   "cell_type": "code",
   "execution_count": 6,
   "metadata": {},
   "outputs": [
    {
     "name": "stdout",
     "output_type": "stream",
     "text": [
      "Hava soğuk\n"
     ]
    }
   ],
   "source": [
    "if sicaklik>25: \n",
    "    print('Hava Çok Sıcak')\n",
    "    \n",
    "elif 20<=sicaklik<=25: \n",
    "    print('Hava Ilık')\n",
    "    \n",
    "elif 14<=sicaklik<20:\n",
    "    \n",
    "    print('Hava soğumaya yakın')\n",
    "    \n",
    "else:  \n",
    "    print('Hava soğuk')"
   ]
  },
  {
   "cell_type": "markdown",
   "metadata": {},
   "source": [
    "## Döngüler\n",
    "### While Döngüsü"
   ]
  },
  {
   "cell_type": "code",
   "execution_count": 9,
   "metadata": {},
   "outputs": [
    {
     "name": "stdout",
     "output_type": "stream",
     "text": [
      "1\n",
      "2\n",
      "3\n",
      "4\n",
      "5\n",
      "Program devam ediyor.\n"
     ]
    }
   ],
   "source": [
    "sayi = 1\n",
    "while sayi <= 5:\n",
    "    print(sayi)\n",
    "    sayi = sayi + 1\n",
    "\n",
    "print('Program devam ediyor.')"
   ]
  },
  {
   "cell_type": "markdown",
   "metadata": {},
   "source": [
    "**Yukarıdaki işlem şu  şekilde çalışır**\n",
    "1. program önce sayi değişkenine 1 değerini atayarak satırı çalıştırır.\n",
    "2. Program while döngüsü satırına gelerek sayi değişkeninin 10'dan küçük yada eşit olma durumunu kontrol eder.\n",
    "3. Koşul sağlanıyorsa döngünün içerisine girer ve sayi değişkenini print ile yazdırır.\n",
    "4. Ardından sayi değişkenini 1 artırır. (sayinin değeri şimdi 2 oldu)\n",
    "5. program tekrar döngünün başladığı #yere giderek koşulu kontrol eder (sayi = 2 için sayi<=10 kontrol edilir ve True sonuç elde edilir.)\n",
    "6. Koşul sağlandığı sürece ekrana sayı değişikenini yazıp ,değişkenin değerini artırır ve başa döner.\n",
    "7. Sayi değişkeni 10 değerine sahipken sayi<=10 koşulu sağlanır ve sayi ekrana yazılır. Ardından sayi değeri 1 artırılarak 11 yapılır. Program tekrar döngünün başına döner.\n",
    "8. Sayı değeri 11 olduğu için sayi<=10 koşulu sağlamanmaz.Program döngü içine girmeden döngü sonrası ilk satırdan çalışmaya devam eder. print('program devam ediyor') komutu çalışır."
   ]
  },
  {
   "cell_type": "markdown",
   "metadata": {},
   "source": [
    "WHİLE DÖNGÜSÜ BU ŞEKİLDEYDİ ŞİMDİ GELELİM **FOR** DÖNGÜSÜNE:"
   ]
  },
  {
   "cell_type": "markdown",
   "metadata": {},
   "source": [
    "### For Döngüsü"
   ]
  },
  {
   "cell_type": "code",
   "execution_count": 10,
   "metadata": {},
   "outputs": [
    {
     "name": "stdout",
     "output_type": "stream",
     "text": [
      "a\n",
      "b\n",
      "c\n",
      "d\n"
     ]
    }
   ],
   "source": [
    "harfler = 'abcd'\n",
    "for h in harfler:\n",
    "    print(h)"
   ]
  },
  {
   "cell_type": "markdown",
   "metadata": {},
   "source": [
    "Yukarıda yaptığımız şey şu. Harfler değişkenini tanımladık 'abcd' stringi olarak daha sonra for döngüsüne geldik. Burada for döngüsü **harfler** içindeki her bir elemanı **h** değişkeni ile temsil eder, bu **h**değişkeni ilk harften başlayarak her bir adımda sıradaki harfi alıp döngü içerisine getirmektedir."
   ]
  },
  {
   "cell_type": "markdown",
   "metadata": {},
   "source": [
    "**FOR DÖNGÜSÜNÜ ŞU ŞEKİLDEDE TANIMLAYABİLİRİZ:**\n",
    "\n",
    ">     for döngü_değişkeni in üzerinde_dolaşılacak_veri:\n",
    ">         döngü_içi_işlemler\n",
    "\n",
    "RANGE FONKSİYONUNUN FOR DÖNGÜSÜNDE KULLANIMINA BAKACAK OLURSAK"
   ]
  },
  {
   "cell_type": "code",
   "execution_count": 11,
   "metadata": {},
   "outputs": [
    {
     "name": "stdout",
     "output_type": "stream",
     "text": [
      "0\n",
      "1\n",
      "2\n",
      "3\n",
      "4\n",
      "5\n",
      "6\n",
      "7\n",
      "8\n",
      "9\n"
     ]
    }
   ],
   "source": [
    "for sayi in range(10):\n",
    "    print(sayi)"
   ]
  },
  {
   "cell_type": "markdown",
   "metadata": {},
   "source": [
    "Yukarıda sayi değişkeni range ile üretilen **0'dan 9'a kadar olan 10 sayı** üzerinde dolaşıp hepsini sırayla yazıyor print fonksiyonu ile."
   ]
  },
  {
   "cell_type": "code",
   "execution_count": 12,
   "metadata": {},
   "outputs": [
    {
     "name": "stdout",
     "output_type": "stream",
     "text": [
      "8\n",
      "12\n",
      "16\n",
      "20\n"
     ]
    }
   ],
   "source": [
    "for sayi in range(8,21,4):\n",
    "    print(sayi)"
   ]
  },
  {
   "cell_type": "markdown",
   "metadata": {},
   "source": [
    "**range(a,b,c)** kullanımı şu şekildedir : a'dan b'ye c aralığıyla sayı üret"
   ]
  },
  {
   "cell_type": "markdown",
   "metadata": {},
   "source": [
    "#### For Döngüsü Örneği"
   ]
  },
  {
   "cell_type": "code",
   "execution_count": 13,
   "metadata": {},
   "outputs": [
    {
     "name": "stdout",
     "output_type": "stream",
     "text": [
      "y Latin Harfleri\n",
      "a Latin Harfleri\n",
      "ğ Türkçe Karakter\n",
      "m Latin Harfleri\n",
      "u Latin Harfleri\n",
      "r Latin Harfleri\n",
      "Boşluk\n",
      "ç Türkçe Karakter\n",
      "i Türkçe Karakter\n",
      "s Latin Harfleri\n",
      "e Latin Harfleri\n",
      "l Latin Harfleri\n",
      "e Latin Harfleri\n",
      "r Latin Harfleri\n",
      "s Latin Harfleri\n",
      "e Latin Harfleri\n",
      "n Latin Harfleri\n",
      "Boşluk\n",
      "ş Türkçe Karakter\n",
      "a Latin Harfleri\n",
      "r Latin Harfleri\n",
      "k Latin Harfleri\n",
      "ı Latin Harfleri\n",
      "Boşluk\n",
      "s Latin Harfleri\n",
      "ö Türkçe Karakter\n",
      "y Latin Harfleri\n",
      "l Latin Harfleri\n",
      "ü Türkçe Karakter\n",
      "y Latin Harfleri\n",
      "o Latin Harfleri\n",
      "r Latin Harfleri\n",
      "d Latin Harfleri\n",
      "u Latin Harfleri\n"
     ]
    }
   ],
   "source": [
    "karakter = 'çğiöşü'\n",
    "kelime = 'yağmur çiselersen şarkı söylüyordu'\n",
    "\n",
    "for a in kelime: # a değişkenini kelime stringi harfleri içinde dolaştırıyoruz\n",
    "    if a in karakter: #burada sorguluyor eğer a'nın üzerinde olduğu harf karakter değişkeninde varsa\n",
    "        print(a , 'Türkçe Karakter')\n",
    "    elif a == ' ': # burada sorguluyoruz a karakter içinde değilde boşluk karakteriyse boşluk yaz\n",
    "        print('Boşluk')\n",
    "    \n",
    "    else: # geri kalanlarda latin harfleri yaz diyoruz\n",
    "        print(a,'Latin Harfleri')"
   ]
  },
  {
   "cell_type": "markdown",
   "metadata": {},
   "source": [
    "## Listeler\n",
    "\n",
    "ŞİMDİ HIZLI HIZLI LİSTELER'E BAKALIM ve listeler üzerinde döngü işlemi yapalım \n",
    "\n",
    "> Pythonda listeler []  ile veya list() ile tanımlanır."
   ]
  },
  {
   "cell_type": "code",
   "execution_count": 14,
   "metadata": {},
   "outputs": [
    {
     "name": "stdout",
     "output_type": "stream",
     "text": [
      "listemizin uzunluğu 4\n",
      "\n",
      "\n",
      "a\n",
      "b\n",
      "c\n",
      "d\n"
     ]
    }
   ],
   "source": [
    "listemiz = ['a','b','c','d'] \n",
    "print('listemizin uzunluğu',len(listemiz)) \n",
    "print('\\n')\n",
    "\n",
    "# şimdi bu listeyi döngüye sokalım mesela\n",
    "for liste_elemani in listemiz:\n",
    "    print(liste_elemani)"
   ]
  },
  {
   "cell_type": "markdown",
   "metadata": {},
   "source": [
    "Gördüğümüz gibi yukarıda **liste_elemani** değişkeni 'listemiz' listesi üzerinde dolaştırılıp liste içerisindeki verilere atandı sırayla ve yazdırıldı print komutuyla."
   ]
  },
  {
   "cell_type": "markdown",
   "metadata": {},
   "source": [
    "Şimdi **i**'nin her dönüşte karesine ulaşalım"
   ]
  },
  {
   "cell_type": "code",
   "execution_count": 15,
   "metadata": {},
   "outputs": [
    {
     "name": "stdout",
     "output_type": "stream",
     "text": [
      "100\n",
      "400\n",
      "900\n",
      "1600\n",
      "2500\n"
     ]
    }
   ],
   "source": [
    "liste_2 = [10,20,30,40,50]\n",
    "\n",
    "for i in liste_2:\n",
    "    print(i**2)"
   ]
  },
  {
   "cell_type": "markdown",
   "metadata": {},
   "source": [
    "### Listeye eleman atama\n",
    "şimdi boş bir listeye kendimiz eleman atayalım"
   ]
  },
  {
   "cell_type": "code",
   "execution_count": 17,
   "metadata": {},
   "outputs": [
    {
     "name": "stdout",
     "output_type": "stream",
     "text": [
      "[0, 1, 2, 3, 4, 5, 6, 7, 8, 9]\n"
     ]
    }
   ],
   "source": [
    "sayi = []\n",
    "for say in range(10):\n",
    "    sayi.append(say) \n",
    "\n",
    "print(sayi)"
   ]
  },
  {
   "cell_type": "markdown",
   "metadata": {},
   "source": [
    "Burada biz range(10) ile 0'dan 9'a kadar 10 sayı oluşturup say değişkenini bunlar üzerinde döndürdük ve her dönüşte **'append(say)'** methodu ile sayi isimli liste değişkenimize bu sayıyı atadık. "
   ]
  },
  {
   "cell_type": "markdown",
   "metadata": {},
   "source": [
    "### Liste İndex'i"
   ]
  },
  {
   "cell_type": "markdown",
   "metadata": {},
   "source": [
    "Python'da liste içindeki her bir değişkene bir **index** değeri atanır. Aşağıda örnek ile göstermek gerekirse:"
   ]
  },
  {
   "cell_type": "code",
   "execution_count": 18,
   "metadata": {},
   "outputs": [
    {
     "name": "stdout",
     "output_type": "stream",
     "text": [
      "2\n",
      "3\n",
      "4\n",
      "5\n"
     ]
    }
   ],
   "source": [
    "index_list = [2,3,4,5]\n",
    "\n",
    "print( index_list[0] )\n",
    "print( index_list[1] )\n",
    "print( index_list[2] )\n",
    "print( index_list[3] )"
   ]
  },
  {
   "cell_type": "markdown",
   "metadata": {},
   "source": [
    "2 sayısının index'i 0'dır\n",
    "\n",
    "3 sayısının index'i 1'dir\n",
    "\n",
    "4 sayısının index'İ 2'dir\n",
    "\n",
    "5 sayısının index'i 3'tür"
   ]
  },
  {
   "cell_type": "markdown",
   "metadata": {},
   "source": [
    "Yukarıda gördüğümüz gibi python listelerinde ilk eleman hep **0** indexini alır ve geri kalan elemanlar 0'dan itibaren sırayla aritmetik olarak index değerlerini alırlar.\n",
    "\n",
    "Bir örnek daha yapalım."
   ]
  },
  {
   "cell_type": "code",
   "execution_count": 19,
   "metadata": {},
   "outputs": [
    {
     "name": "stdout",
     "output_type": "stream",
     "text": [
      "arı\n",
      "fil\n",
      "leopar\n",
      "horoz\n"
     ]
    }
   ],
   "source": [
    "string_liste = ['arı','fil','leopar','horoz']\n",
    "\n",
    "print( string_liste[0] )\n",
    "print( string_liste[1] )\n",
    "print( string_liste[2] )\n",
    "print( string_liste[3] )"
   ]
  },
  {
   "cell_type": "markdown",
   "metadata": {},
   "source": [
    "### Liste Eleman Değiştirme"
   ]
  },
  {
   "cell_type": "markdown",
   "metadata": {},
   "source": [
    "Listenin 0. indexini yani arı'yı yunus ile değiştirdik, bakalım:"
   ]
  },
  {
   "cell_type": "code",
   "execution_count": 20,
   "metadata": {},
   "outputs": [
    {
     "name": "stdout",
     "output_type": "stream",
     "text": [
      "['yunus', 'fil', 'leopar', 'horoz']\n"
     ]
    }
   ],
   "source": [
    "string_liste[0] = 'yunus'\n",
    "print(string_liste)"
   ]
  },
  {
   "cell_type": "markdown",
   "metadata": {},
   "source": [
    "### Liste Birleştirme"
   ]
  },
  {
   "cell_type": "code",
   "execution_count": 21,
   "metadata": {},
   "outputs": [
    {
     "name": "stdout",
     "output_type": "stream",
     "text": [
      "[1, 2, 3, 4, 5, 'a', 'b', 'c', 'd']\n"
     ]
    }
   ],
   "source": [
    "liste1 = [1,2,3,4,5]\n",
    "liste2 = ['a','b','c','d']\n",
    "\n",
    "liste3 = liste1 + liste2\n",
    "print(liste3)"
   ]
  },
  {
   "cell_type": "markdown",
   "metadata": {},
   "source": [
    "### Liste Eleman Ekleme"
   ]
  },
  {
   "cell_type": "code",
   "execution_count": 22,
   "metadata": {},
   "outputs": [
    {
     "name": "stdout",
     "output_type": "stream",
     "text": [
      "[1, 2, 3, 4, 5, 'a', 'b', 'c', 'd', 'e', 'f', 'g']\n"
     ]
    }
   ],
   "source": [
    "liste3 = liste3  + ['e','f','g']\n",
    "print(liste3)"
   ]
  },
  {
   "cell_type": "markdown",
   "metadata": {},
   "source": [
    "### Liste Eleman Çıkarma"
   ]
  },
  {
   "cell_type": "code",
   "execution_count": 23,
   "metadata": {},
   "outputs": [
    {
     "name": "stdout",
     "output_type": "stream",
     "text": [
      "[10, 30]\n"
     ]
    }
   ],
   "source": [
    "liste_son = [10,20,30]\n",
    "\n",
    "liste_son.remove(20)\n",
    "print(liste_son)"
   ]
  },
  {
   "cell_type": "markdown",
   "metadata": {},
   "source": [
    "Mesela yukarıdaki listenin en büyük ve en küçük elemanlarını bulalım:"
   ]
  },
  {
   "cell_type": "code",
   "execution_count": 24,
   "metadata": {},
   "outputs": [
    {
     "name": "stdout",
     "output_type": "stream",
     "text": [
      "maximum eleman 30\n",
      "minimum eleman 10\n"
     ]
    }
   ],
   "source": [
    "max_list = max(liste_son)\n",
    "min_list = min(liste_son)\n",
    "\n",
    "print('maximum eleman' , max_list)\n",
    "print('minimum eleman' , min_list)"
   ]
  },
  {
   "cell_type": "code",
   "execution_count": null,
   "metadata": {},
   "outputs": [],
   "source": []
  }
 ],
 "metadata": {
  "kernelspec": {
   "display_name": "Python 3",
   "language": "python",
   "name": "python3"
  },
  "language_info": {
   "codemirror_mode": {
    "name": "ipython",
    "version": 3
   },
   "file_extension": ".py",
   "mimetype": "text/x-python",
   "name": "python",
   "nbconvert_exporter": "python",
   "pygments_lexer": "ipython3",
   "version": "3.8.5"
  }
 },
 "nbformat": 4,
 "nbformat_minor": 4
}