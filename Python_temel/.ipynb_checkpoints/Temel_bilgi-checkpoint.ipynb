{
 "cells": [
  {
   "cell_type": "markdown",
   "metadata": {},
   "source": [
    "# Temel Bilgiler\n",
    "Merhaba arkadaşlar jupyter notebook'umuzu açtık ve python temellerine bir giriş yapacağız...\n",
    "\n",
    "Jupyter Notebook python kod yazımı için kolay ve hızlı bir ortam..\n",
    "\n",
    "İlk olarak Python temellerini anlatacağız ve yavaşça Meteoroloji ile ilgili kısımlara ilerleyeceğiz."
   ]
  },
  {
   "cell_type": "markdown",
   "metadata": {},
   "source": [
    "## Comment Satırı\n",
    "Şimdi İsterseniz **COMMENT** İLE BAŞLAYALIM.\n",
    "\n",
    "Bu işaret ,program'ı çalıştırdığımızda program'ın bu satırları es geçerek okumamasını sağlayacak. Böylelikle biz kodlarımızı yazarken daha sonra hatırlamamız için bu şekilde NOTLAR alacağız..."
   ]
  },
  {
   "cell_type": "code",
   "execution_count": 1,
   "metadata": {},
   "outputs": [],
   "source": [
    "# Merhaba şu an bu kod'u python işlemiyor"
   ]
  },
  {
   "cell_type": "markdown",
   "metadata": {},
   "source": [
    "## Aritmetik İşlemler\n",
    "Yazdığınız komutu çalıştırmak için SHİFT İLE ENTERA aynı anda basın..!\n",
    "\n",
    "Aritmetik işlemlerle başlayalım:"
   ]
  },
  {
   "cell_type": "code",
   "execution_count": 3,
   "metadata": {},
   "outputs": [
    {
     "data": {
      "text/plain": [
       "39"
      ]
     },
     "execution_count": 3,
     "metadata": {},
     "output_type": "execute_result"
    }
   ],
   "source": [
    "16 + 23"
   ]
  },
  {
   "cell_type": "markdown",
   "metadata": {},
   "source": [
    "Yukarıda yazdığımız kod'u **print** komutu kullanarak'ta yazdırabiliriz.."
   ]
  },
  {
   "cell_type": "code",
   "execution_count": 4,
   "metadata": {},
   "outputs": [
    {
     "name": "stdout",
     "output_type": "stream",
     "text": [
      "39\n",
      "4.0\n",
      "8\n",
      "50\n",
      "2\n",
      "22\n"
     ]
    }
   ],
   "source": [
    "print(16+23) # toplama işlemi sonucunu yazdırdık\n",
    "print(28/7)  # 28'i 7'ye bölüyoruz\n",
    "print(2**3)  # 2'nin 3'üncü kuvvetini alıyoruz.. 2 ard arda yıldız üssü alma olur\n",
    "print(5*10)  # 5 ile 10'u çarptık ve yazdırdık.\n",
    "print(12%5)  # % işareti kalan bulmada kullanılır 12'nin 5'e bölümünden kalan..\n",
    "print(34-12) #çıkarma işlemi"
   ]
  },
  {
   "cell_type": "markdown",
   "metadata": {},
   "source": [
    "## Veri Türleri\n",
    "Şimdi data type'larına geçelim..\n",
    "\n",
    "Pyhton'da 3 adet temel data type'ımız bulunur.. Bunlar  \n",
    "- **INTEGER** , **FLOAT**  , **STRING**  \n",
    "\n",
    "> INTEGER tam sayıları ifade eder;\n",
    "FLOAT kesirli sayıları ifade eder;\n",
    "STRING ise harfler,kelimeler ve cümlelerimizdir..;\n",
    "ÖRNEK OLARAK GÖSTERELİM İSTERSENİZ..;"
   ]
  },
  {
   "cell_type": "code",
   "execution_count": 5,
   "metadata": {},
   "outputs": [
    {
     "name": "stdout",
     "output_type": "stream",
     "text": [
      "15\n",
      "12.4\n",
      "Merhaba İTU\n"
     ]
    }
   ],
   "source": [
    "print(15)   #15 sayısı tam sayıdır bu yüzden data typeı INTEGER'DIR\n",
    "print(12.4) #12.4 sayısı kesirlidir bu yüzden data typeı FLOAT'DIR\n",
    "print('Merhaba İTU') # Burada farkettiyseniz 2 üst nokta arasına cümle yazdık.\n",
    "                     # Burada ki data typemız ise STRING'DIR"
   ]
  },
  {
   "cell_type": "markdown",
   "metadata": {},
   "source": [
    "15 sayısı tam sayıdır bu yüzden data typeı **INTEGER**'DIR.\n",
    "\n",
    "12.4 sayısı kesirlidir bu yüzden data typeı **FLOAT**'DIR.\n",
    "\n",
    "'Merhaba İTU' ise **STRING**'DIR. Burada farkettiyseniz 2 üst nokta arasına cümle yazdık."
   ]
  },
  {
   "cell_type": "markdown",
   "metadata": {},
   "source": [
    "## Python Değişkenler\n",
    "Biz bir değişken ismi belirleyerek o değişkene İnteger float veya String atayabiliriz."
   ]
  },
  {
   "cell_type": "code",
   "execution_count": 6,
   "metadata": {},
   "outputs": [
    {
     "name": "stdout",
     "output_type": "stream",
     "text": [
      "3\n",
      "<class 'int'>\n",
      "242345.134\n",
      "<class 'float'>\n",
      "1235.4\n",
      "<class 'str'>\n"
     ]
    }
   ],
   "source": [
    "a = 3 \n",
    "print(a)\n",
    "print(type(a)) # INT\n",
    "\n",
    "b = 242345.134 \n",
    "print(b)\n",
    "print(type(b)) # FLOAT\n",
    "\n",
    "c = '1235.4'\n",
    "print(c)\n",
    "print(type(c)) # STR"
   ]
  },
  {
   "cell_type": "markdown",
   "metadata": {},
   "source": [
    "### Değişken isimlerinde dikkat edilmesi gerekenler\n",
    "1. Python Büyük harf ve küçük harf duyarlıdır a ve A değişkeni farklıdır.\n",
    "2. Değişken adlarının başında rakam bulunamaz mesela : 1sayi  gibi..\n",
    "3. Değişken adlarında alt çizgi(_) haricinde özel karakter kullanılmaz örn: ilk_sayi = 1\n",
    "4. Programlama dilinin rezerve kelimeleri değişken adı olarak kullanılmaz örneğin:\n",
    ">  True,False,if,else,return,class,break,continue,and,or gibi.."
   ]
  },
  {
   "cell_type": "markdown",
   "metadata": {},
   "source": [
    "Değişkenlere değer atayalım ve değerini değiştirelim."
   ]
  },
  {
   "cell_type": "code",
   "execution_count": 8,
   "metadata": {},
   "outputs": [
    {
     "name": "stdout",
     "output_type": "stream",
     "text": [
      "14\n"
     ]
    }
   ],
   "source": [
    "ilk_sayi = 6 # ilk sayıya 6 değerini atadık\n",
    "ikinci_sayi = ilk_sayi + 8 #ilk sayıya 8 ekledik\n",
    "print(ikinci_sayi)"
   ]
  },
  {
   "cell_type": "markdown",
   "metadata": {},
   "source": [
    "String ile float veya integer'ı arka arkaya ekleyebiliriz mesela:"
   ]
  },
  {
   "cell_type": "code",
   "execution_count": 9,
   "metadata": {},
   "outputs": [
    {
     "name": "stdout",
     "output_type": "stream",
     "text": [
      "155 ile polisi arayabilirsiniz\n",
      "istanbul teknik üni meteoroloji müh kontenjanı 60 kişidir\n"
     ]
    }
   ],
   "source": [
    "sayi = 155\n",
    "herhangi_string = 'ile polisi arayabilirsiniz'\n",
    "print(sayi , herhangi_string) # virgül ile değişkenleri ayırıp yazabiliriz arka arkaya\n",
    "print('istanbul teknik üni' , 'meteoroloji müh' , 'kontenjanı' , 60 , 'kişidir')"
   ]
  },
  {
   "cell_type": "markdown",
   "metadata": {},
   "source": [
    "## Format Metodu\n",
    "Format methodu ile istediğimiz değişkeni yazdırabiliriz:"
   ]
  },
  {
   "cell_type": "code",
   "execution_count": 11,
   "metadata": {},
   "outputs": [
    {
     "name": "stdout",
     "output_type": "stream",
     "text": [
      "kutay ile berkay Meteoroloji Müh. öğrencisilerdir..\n"
     ]
    }
   ],
   "source": [
    "a = 'kutay'\n",
    "b = 'berkay'\n",
    "print('{} ile {} Meteoroloji Müh. öğrencisilerdir..'.format(a,b)) "
   ]
  },
  {
   "cell_type": "markdown",
   "metadata": {},
   "source": [
    "Yukarıda **format** methodu ile {} parantezleri arasına format içindeki değişkenleri atadık.\n",
    "\n",
    "Bu method bize gerçekten çok lazım olacak ve kolaylık sağlayacak."
   ]
  },
  {
   "cell_type": "markdown",
   "metadata": {},
   "source": [
    "## Kaçış Dizileri\n",
    "Kaçış dizileri denen yapılar var pythonda bunlar bize kolaylık sağlıyorlar.\n",
    "\n",
    "örnek olarak **\\n** ve **\\t** kaçış dizilerini vereceğim bunlardan ilki **\\n** bir alt satıra geçmemizi sağlıyor **\\t** ise bir tab kadar boşluk bırakmamıza neden oluyor."
   ]
  },
  {
   "cell_type": "code",
   "execution_count": 13,
   "metadata": {},
   "outputs": [
    {
     "name": "stdout",
     "output_type": "stream",
     "text": [
      "İstanbul Teknik Üniversitesi\n",
      "Meteoroloji Mühendisliği\n",
      "2.Sınıf\n",
      "\n",
      "------------------\n",
      "İstanbul Teknik Üniversitesi\tMeteoroloji Mühendisliği\t2.Sınıf\n"
     ]
    }
   ],
   "source": [
    "print('İstanbul Teknik Üniversitesi\\nMeteoroloji Mühendisliği\\n2.Sınıf\\n')\n",
    "print('------------------')\n",
    "print('İstanbul Teknik Üniversitesi\\tMeteoroloji Mühendisliği\\t2.Sınıf')"
   ]
  },
  {
   "cell_type": "markdown",
   "metadata": {},
   "source": [
    "## Tür Dönüşümleri\n",
    "a değişkeni'ni tanımlayıp değişken türünde değişiklik yapabiliriz. Örnek olarak:"
   ]
  },
  {
   "cell_type": "code",
   "execution_count": 14,
   "metadata": {},
   "outputs": [
    {
     "name": "stdout",
     "output_type": "stream",
     "text": [
      "5 5 5.0\n",
      "<class 'str'> <class 'int'> <class 'float'>\n"
     ]
    }
   ],
   "source": [
    "a = '5'\n",
    "b = int(a) #a'yı integera yani tam sayıya çeviriyoruz\n",
    "c = float(a) # a 'yı floata yani kesirli sayıya çeviriyoruz\n",
    "\n",
    "print(a ,  b , c ) # çıktıda hepsi sayı gibi gözüksede aslına dtypeları farklı\n",
    "print(type(a) , type(b) , type(c)) # gördüğümüz gibi str,int ve float dtypeları"
   ]
  },
  {
   "cell_type": "markdown",
   "metadata": {},
   "source": [
    "## Mantıksal Operatörler\n"
   ]
  },
  {
   "cell_type": "code",
   "execution_count": 15,
   "metadata": {},
   "outputs": [
    {
     "name": "stdout",
     "output_type": "stream",
     "text": [
      "False\n"
     ]
    }
   ],
   "source": [
    "saat = 12\n",
    "sicaklik = 35\n",
    "print(saat>16 and sicaklik<40) "
   ]
  },
  {
   "cell_type": "markdown",
   "metadata": {},
   "source": [
    "Burada sorguluyoruz saat 16'dan büyük mü? ve sicaklik 40 dereceden küçük mü?\n",
    "\n",
    "Eğer her ikiside doğruysa **True** verir her ikiside yanlışsa **False** verir, herhangi biri bile yanlışsa false verir çünkü mantık dersinden bildiğiniz üzere **and** komutunda her koşulu sağlaması gerekir **True** olabilmesi için."
   ]
  },
  {
   "cell_type": "code",
   "execution_count": 17,
   "metadata": {},
   "outputs": [
    {
     "name": "stdout",
     "output_type": "stream",
     "text": [
      "True\n"
     ]
    }
   ],
   "source": [
    "print(saat>16 or sicaklik<40)"
   ]
  },
  {
   "cell_type": "markdown",
   "metadata": {},
   "source": [
    "Burada saorguluyoruz saat 16'dan büyük mü? yada sicaklik 40 dereceden küçük mü?\n",
    "\n",
    "Burada sonucun **True** olabilmesi için koşullardan birisinin doğru olması yeterlidir. Mantık derslerinden hatırlarsanız eğer **or** ifadesinde sadece her koşul yanlış ise **False** cevabı görürüz."
   ]
  },
  {
   "cell_type": "code",
   "execution_count": null,
   "metadata": {},
   "outputs": [],
   "source": []
  }
 ],
 "metadata": {
  "kernelspec": {
   "display_name": "Python 3",
   "language": "python",
   "name": "python3"
  },
  "language_info": {
   "codemirror_mode": {
    "name": "ipython",
    "version": 3
   },
   "file_extension": ".py",
   "mimetype": "text/x-python",
   "name": "python",
   "nbconvert_exporter": "python",
   "pygments_lexer": "ipython3",
   "version": "3.8.5"
  }
 },
 "nbformat": 4,
 "nbformat_minor": 4
}
